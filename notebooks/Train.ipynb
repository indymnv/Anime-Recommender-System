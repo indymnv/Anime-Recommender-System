{
 "cells": [
  {
   "cell_type": "markdown",
   "metadata": {},
   "source": [
    "# 1-. First training model (Benchmark and tree models)"
   ]
  },
  {
   "cell_type": "markdown",
   "metadata": {},
   "source": [
    "In this notebook We are going to train the models using linear regression, decision tree and random forest"
   ]
  },
  {
   "cell_type": "code",
   "execution_count": 20,
   "metadata": {},
   "outputs": [],
   "source": [
    "#Importing libraries\n",
    "import pandas as pd\n",
    "import numpy as np\n",
    "import matplotlib.pyplot as plt\n",
    "import seaborn as sns\n",
    "from sklearn.metrics import mean_squared_error, r2_score, mean_absolute_error\n",
    "from sklearn.model_selection import train_test_split\n",
    "from sklearn.linear_model import LinearRegression\n",
    "from sklearn.ensemble import RandomForestRegressor\n",
    "from sklearn.tree import DecisionTreeRegressor\n",
    "from sklearn.preprocessing import StandardScaler\n",
    "from sklearn.model_selection import KFold\n",
    "from sklearn.model_selection import cross_val_score\n",
    "import time\n",
    "import config"
   ]
  },
  {
   "cell_type": "code",
   "execution_count": 21,
   "metadata": {},
   "outputs": [],
   "source": [
    "\n",
    "X_train= pd.read_csv(r'data/train4.csv')\n",
    "X_test= pd.read_csv(r'data/test4.csv')\n",
    "#X_test.head()"
   ]
  },
  {
   "cell_type": "code",
   "execution_count": 22,
   "metadata": {},
   "outputs": [
    {
     "output_type": "execute_result",
     "data": {
      "text/plain": [
       "8.0     1481647\n",
       "7.0     1237440\n",
       "9.0     1128834\n",
       "10.0     860222\n",
       "6.0      573818\n",
       "5.0      254537\n",
       "4.0       93895\n",
       "3.0       37271\n",
       "2.0       20883\n",
       "1.0       14968\n",
       "Name: rating_y, dtype: int64"
      ]
     },
     "metadata": {},
     "execution_count": 22
    }
   ],
   "source": [
    "X_train.rating_y.value_counts()"
   ]
  },
  {
   "cell_type": "code",
   "execution_count": 23,
   "metadata": {},
   "outputs": [],
   "source": [
    "y_train=X_train.rating_y\n",
    "y_test=X_test.rating_y\n",
    "X_train=X_train.drop('rating_y',axis=1)\n",
    "X_test=X_test.drop('rating_y',axis=1)"
   ]
  },
  {
   "cell_type": "code",
   "execution_count": 24,
   "metadata": {},
   "outputs": [
    {
     "output_type": "execute_result",
     "data": {
      "text/plain": [
       "   anime_id  Action  Adventure  Cars  Comedy  Dementia  Demons  Drama  Ecchi  \\\n",
       "0       437       0          0     0       0         1       0      1      0   \n",
       "1      4181       0          0     0       0         0       0      1      0   \n",
       "2     10080       0          0     0       1         0       0      0      0   \n",
       "3      9936       1          0     0       0         0       0      0      1   \n",
       "4       329       0          0     0       0         0       0      1      0   \n",
       "\n",
       "   Fantasy  ...  type_Movie  type_Music  type_ONA  type_OVA  type_Special  \\\n",
       "0        0  ...           1           0         0         0             0   \n",
       "1        1  ...           0           0         0         0             0   \n",
       "2        0  ...           0           0         0         0             0   \n",
       "3        0  ...           0           0         0         0             0   \n",
       "4        0  ...           0           0         0         0             0   \n",
       "\n",
       "   type_TV  rating_x  members  episodes  user_id  \n",
       "0        0      8.23   117565         1    28669  \n",
       "1        1      9.06   456749        24    52535  \n",
       "2        1      8.12   194300        12    48664  \n",
       "3        1      6.69   104182        12    32860  \n",
       "4        1      8.38   105044        26    46146  \n",
       "\n",
       "[5 rows x 54 columns]"
      ],
      "text/html": "<div>\n<style scoped>\n    .dataframe tbody tr th:only-of-type {\n        vertical-align: middle;\n    }\n\n    .dataframe tbody tr th {\n        vertical-align: top;\n    }\n\n    .dataframe thead th {\n        text-align: right;\n    }\n</style>\n<table border=\"1\" class=\"dataframe\">\n  <thead>\n    <tr style=\"text-align: right;\">\n      <th></th>\n      <th>anime_id</th>\n      <th>Action</th>\n      <th>Adventure</th>\n      <th>Cars</th>\n      <th>Comedy</th>\n      <th>Dementia</th>\n      <th>Demons</th>\n      <th>Drama</th>\n      <th>Ecchi</th>\n      <th>Fantasy</th>\n      <th>...</th>\n      <th>type_Movie</th>\n      <th>type_Music</th>\n      <th>type_ONA</th>\n      <th>type_OVA</th>\n      <th>type_Special</th>\n      <th>type_TV</th>\n      <th>rating_x</th>\n      <th>members</th>\n      <th>episodes</th>\n      <th>user_id</th>\n    </tr>\n  </thead>\n  <tbody>\n    <tr>\n      <th>0</th>\n      <td>437</td>\n      <td>0</td>\n      <td>0</td>\n      <td>0</td>\n      <td>0</td>\n      <td>1</td>\n      <td>0</td>\n      <td>1</td>\n      <td>0</td>\n      <td>0</td>\n      <td>...</td>\n      <td>1</td>\n      <td>0</td>\n      <td>0</td>\n      <td>0</td>\n      <td>0</td>\n      <td>0</td>\n      <td>8.23</td>\n      <td>117565</td>\n      <td>1</td>\n      <td>28669</td>\n    </tr>\n    <tr>\n      <th>1</th>\n      <td>4181</td>\n      <td>0</td>\n      <td>0</td>\n      <td>0</td>\n      <td>0</td>\n      <td>0</td>\n      <td>0</td>\n      <td>1</td>\n      <td>0</td>\n      <td>1</td>\n      <td>...</td>\n      <td>0</td>\n      <td>0</td>\n      <td>0</td>\n      <td>0</td>\n      <td>0</td>\n      <td>1</td>\n      <td>9.06</td>\n      <td>456749</td>\n      <td>24</td>\n      <td>52535</td>\n    </tr>\n    <tr>\n      <th>2</th>\n      <td>10080</td>\n      <td>0</td>\n      <td>0</td>\n      <td>0</td>\n      <td>1</td>\n      <td>0</td>\n      <td>0</td>\n      <td>0</td>\n      <td>0</td>\n      <td>0</td>\n      <td>...</td>\n      <td>0</td>\n      <td>0</td>\n      <td>0</td>\n      <td>0</td>\n      <td>0</td>\n      <td>1</td>\n      <td>8.12</td>\n      <td>194300</td>\n      <td>12</td>\n      <td>48664</td>\n    </tr>\n    <tr>\n      <th>3</th>\n      <td>9936</td>\n      <td>1</td>\n      <td>0</td>\n      <td>0</td>\n      <td>0</td>\n      <td>0</td>\n      <td>0</td>\n      <td>0</td>\n      <td>1</td>\n      <td>0</td>\n      <td>...</td>\n      <td>0</td>\n      <td>0</td>\n      <td>0</td>\n      <td>0</td>\n      <td>0</td>\n      <td>1</td>\n      <td>6.69</td>\n      <td>104182</td>\n      <td>12</td>\n      <td>32860</td>\n    </tr>\n    <tr>\n      <th>4</th>\n      <td>329</td>\n      <td>0</td>\n      <td>0</td>\n      <td>0</td>\n      <td>0</td>\n      <td>0</td>\n      <td>0</td>\n      <td>1</td>\n      <td>0</td>\n      <td>0</td>\n      <td>...</td>\n      <td>0</td>\n      <td>0</td>\n      <td>0</td>\n      <td>0</td>\n      <td>0</td>\n      <td>1</td>\n      <td>8.38</td>\n      <td>105044</td>\n      <td>26</td>\n      <td>46146</td>\n    </tr>\n  </tbody>\n</table>\n<p>5 rows × 54 columns</p>\n</div>"
     },
     "metadata": {},
     "execution_count": 24
    }
   ],
   "source": [
    "final_features=X_train.columns\n",
    "X_train.head()"
   ]
  },
  {
   "cell_type": "code",
   "execution_count": 25,
   "metadata": {},
   "outputs": [],
   "source": [
    "#Estandarización de los datos\n",
    "scaler=StandardScaler()\n",
    "scaler.fit(X_train)\n",
    "\n",
    "X_train = scaler.transform(X_train)\n",
    "X_test = scaler.transform(X_test)\n",
    "#X_train"
   ]
  },
  {
   "cell_type": "code",
   "execution_count": 26,
   "metadata": {},
   "outputs": [
    {
     "output_type": "execute_result",
     "data": {
      "text/plain": [
       "array([[ 1.46100111, -0.85165055, -0.52400848, ..., -0.8233018 ,\n",
       "        -0.50431488, -1.34037454],\n",
       "       [-0.90677923, -0.85165055, -0.52400848, ...,  1.27810014,\n",
       "        -0.13499714,  0.74082814],\n",
       "       [ 1.6240323 , -0.85165055, -0.52400848, ..., -0.64763193,\n",
       "        -0.1634062 , -1.25319378],\n",
       "       ...,\n",
       "       [ 1.46122629,  1.17419052,  1.90836606, ...,  1.85072692,\n",
       "         0.14909343, -1.29411924],\n",
       "       [ 0.32158423,  1.17419052, -0.52400848, ...,  0.73186208,\n",
       "         0.14909343, -0.82875863],\n",
       "       [-0.93819201, -0.85165055, -0.52400848, ..., -0.63953409,\n",
       "        -0.50431488, -0.00648989]])"
      ]
     },
     "metadata": {},
     "execution_count": 26
    }
   ],
   "source": [
    "X_test"
   ]
  },
  {
   "source": [
    "# Linear Regression (Benchmark model)\n",
    "### Linear regression is the proposed benchmark model, it does not handle hyperparameters that must be configured by the analyst, so it is a good model to start with. 3 metrics for this and the rest of the models are shown below. MSE, RMSE and MAE. For this case, the one we will use to evaluate the models later will be the MAE, given its simplicity"
   ],
   "cell_type": "markdown",
   "metadata": {}
  },
  {
   "cell_type": "code",
   "execution_count": 27,
   "metadata": {},
   "outputs": [],
   "source": [
    "#Linear regression\n",
    "start = time.time()\n",
    "reg = LinearRegression().fit(X_train, y_train)\n",
    "pred = reg.predict(X_train)\n",
    "end = time.time()"
   ]
  },
  {
   "cell_type": "code",
   "execution_count": 28,
   "metadata": {},
   "outputs": [
    {
     "output_type": "stream",
     "name": "stdout",
     "text": [
      "train mse: 2.0545182182380306\n",
      "train rmse: 1.4333590681465795\n",
      "train mae: 1.1105435107937744\n",
      "time is: 38 seconds or 1 minutes\n",
      "\n"
     ]
    }
   ],
   "source": [
    "print('train mse: {}'.format(\n",
    "    mean_squared_error(y_train, pred)))\n",
    "print('train rmse: {}'.format(\n",
    "    np.sqrt(mean_squared_error(y_train, pred))))\n",
    "print('train mae: {}'.format(\n",
    "    mean_absolute_error(y_train, pred)))\n",
    "print('time is: {} seconds or {} minutes'. format(round(\n",
    "    end-start),round((end-start)/60)))\n",
    "print()"
   ]
  },
  {
   "cell_type": "code",
   "execution_count": 29,
   "metadata": {},
   "outputs": [
    {
     "output_type": "stream",
     "name": "stdout",
     "text": [
      "test mse: 2.0519569536783964\ntest rmse: 1.4324653411787653\ntest mae: 1.1096444857564762\n\n"
     ]
    }
   ],
   "source": [
    "pred=reg.predict(X_test)\n",
    "\n",
    "print('test mse: {}'.format(\n",
    "    mean_squared_error(y_test, pred)))\n",
    "print('test rmse: {}'.format(\n",
    "    np.sqrt(mean_squared_error(y_test, pred))))\n",
    "print('test mae: {}'.format(\n",
    "    mean_absolute_error(y_test, pred)))\n",
    "print()"
   ]
  },
  {
   "source": [
    "# Decision Tree"
   ],
   "cell_type": "markdown",
   "metadata": {}
  },
  {
   "cell_type": "code",
   "execution_count": 30,
   "metadata": {},
   "outputs": [],
   "source": [
    "start = time.time()\n",
    "dt = DecisionTreeRegressor(random_state = 42,max_depth=10)\n",
    "dt.fit(X_train,y_train)\n",
    "end = time.time()"
   ]
  },
  {
   "cell_type": "code",
   "execution_count": 31,
   "metadata": {},
   "outputs": [],
   "source": [
    "pred=dt.predict(X_train)"
   ]
  },
  {
   "cell_type": "code",
   "execution_count": 32,
   "metadata": {},
   "outputs": [
    {
     "output_type": "stream",
     "name": "stdout",
     "text": [
      "train mse: 2.04868706883833\n",
      "train rmse: 1.4313235374429953\n",
      "train mae: 1.1089502103258633\n",
      "time is: 159 seconds or 3 minutes\n",
      "\n"
     ]
    }
   ],
   "source": [
    "print('train mse: {}'.format(\n",
    "    mean_squared_error(y_train, pred)))\n",
    "print('train rmse: {}'.format(\n",
    "    np.sqrt(mean_squared_error(y_train, pred))))\n",
    "print('train mae: {}'.format(\n",
    "    mean_absolute_error(y_train, pred)))\n",
    "print('time is: {} seconds or {} minutes'. format(round(\n",
    "    end-start),round((end-start)/60)))\n",
    "print()"
   ]
  },
  {
   "cell_type": "code",
   "execution_count": 33,
   "metadata": {},
   "outputs": [
    {
     "output_type": "stream",
     "name": "stdout",
     "text": [
      "test mse: 2.0499921835928254\ntest rmse: 1.431779376717246\ntest mae: 1.1090337509019268\n\n"
     ]
    }
   ],
   "source": [
    "pred = dt.predict(X_test)\n",
    "\n",
    "print('test mse: {}'.format(\n",
    "    mean_squared_error(y_test, pred)))\n",
    "print('test rmse: {}'.format(\n",
    "    np.sqrt(mean_squared_error(y_test, pred))))\n",
    "print('test mae: {}'.format(\n",
    "    mean_absolute_error(y_test, pred)))\n",
    "print()"
   ]
  },
  {
   "source": [
    "# Random Forest"
   ],
   "cell_type": "markdown",
   "metadata": {}
  },
  {
   "cell_type": "code",
   "execution_count": 34,
   "metadata": {},
   "outputs": [],
   "source": [
    "\n",
    "start = time.time()\n",
    "rf = RandomForestRegressor(n_estimators = 20,\n",
    "                           random_state = 42, \n",
    "                           max_depth=10,\n",
    "                          n_jobs=-1)\n",
    "\n",
    "rf.fit(X_train, y_train)\n",
    "end = time.time()"
   ]
  },
  {
   "cell_type": "code",
   "execution_count": 35,
   "metadata": {},
   "outputs": [],
   "source": [
    "pred=rf.predict(X_train)"
   ]
  },
  {
   "cell_type": "code",
   "execution_count": 36,
   "metadata": {},
   "outputs": [
    {
     "output_type": "stream",
     "name": "stdout",
     "text": [
      "train mse: 2.0459348930162427\n",
      "train rmse: 1.4303618049347664\n",
      "train mae: 1.1083751716553152\n",
      "time is: 703 seconds or 12 minutes\n",
      "\n"
     ]
    }
   ],
   "source": [
    "print('train mse: {}'.format(\n",
    "    mean_squared_error(y_train, pred)))\n",
    "print('train rmse: {}'.format(\n",
    "    np.sqrt(mean_squared_error(y_train, pred))))\n",
    "print('train mae: {}'.format(\n",
    "    mean_absolute_error(y_train, pred)))\n",
    "print('time is: {} seconds or {} minutes'. format(round(\n",
    "    end-start),round((end-start)/60)))\n",
    "print()"
   ]
  },
  {
   "cell_type": "code",
   "execution_count": 37,
   "metadata": {},
   "outputs": [],
   "source": [
    "pred = rf.predict(X_test)"
   ]
  },
  {
   "cell_type": "code",
   "execution_count": 38,
   "metadata": {},
   "outputs": [
    {
     "output_type": "stream",
     "name": "stdout",
     "text": [
      "test mse: 2.0473905420604557\ntest rmse: 1.4308705539148032\ntest mae: 1.1084647611047809\n\n"
     ]
    }
   ],
   "source": [
    "print('test mse: {}'.format(\n",
    "    mean_squared_error(y_test, pred)))\n",
    "print('test rmse: {}'.format(\n",
    "    np.sqrt(mean_squared_error(y_test, pred))))\n",
    "print('test mae: {}'.format(\n",
    "    mean_absolute_error(y_test, pred)))\n",
    "print()"
   ]
  },
  {
   "source": [
    "## Feature Importance"
   ],
   "cell_type": "markdown",
   "metadata": {}
  },
  {
   "cell_type": "code",
   "execution_count": 39,
   "metadata": {},
   "outputs": [
    {
     "output_type": "stream",
     "name": "stdout",
     "text": [
      "anime_id 0.0015\nAction 0.0001\nAdventure 0.0001\nCars 0.0\nComedy 0.0001\nDementia 0.0001\nDemons 0.0001\nDrama 0.0001\nEcchi 0.0001\nFantasy 0.0001\nGame 0.0001\nHarem 0.0001\nHentai 0.0001\nHistorical 0.0\nHorror 0.0001\nJosei 0.0\nKids 0.0001\nMagic 0.0\nMartialArts 0.0\nMecha 0.0001\nMilitary 0.0001\nMusic 0.0\nMystery 0.0\nParody 0.0001\nPolice 0.0\nPsychological 0.0\nRomance 0.0001\nSamurai 0.0\nSchool 0.0001\nSci-Fi 0.0001\nSeinen 0.0\nShoujo 0.0\nShoujoAi 0.0\nShounen 0.0001\nShounenAi 0.0\nSliceofLife 0.0\nSpace 0.0\nSports 0.0\nSuperPower 0.0\nSupernatural 0.0001\nThriller 0.0\nVampire 0.0\nYaoi 0.0\nYuri 0.0\ntype_Movie 0.0001\ntype_Music 0.0\ntype_ONA 0.0\ntype_OVA 0.0001\ntype_Special 0.0001\ntype_TV 0.0001\nrating_x 0.9806\nmembers 0.0022\nepisodes 0.0013\nuser_id 0.012\n"
     ]
    }
   ],
   "source": [
    "for name, score in zip(final_features, rf.feature_importances_):\n",
    "    print(name,round(score,4))"
   ]
  },
  {
   "cell_type": "code",
   "execution_count": null,
   "metadata": {},
   "outputs": [],
   "source": []
  }
 ],
 "metadata": {
  "kernelspec": {
   "name": "python3",
   "display_name": "Python 3.8.5 64-bit (conda)",
   "metadata": {
    "interpreter": {
     "hash": "e3a27c096a2349f711007bc8aa8c44854b2857ddee7f30de130ad55c4283f68f"
    }
   }
  },
  "language_info": {
   "codemirror_mode": {
    "name": "ipython",
    "version": 3
   },
   "file_extension": ".py",
   "mimetype": "text/x-python",
   "name": "python",
   "nbconvert_exporter": "python",
   "pygments_lexer": "ipython3",
   "version": "3.8.5-final"
  }
 },
 "nbformat": 4,
 "nbformat_minor": 4
}