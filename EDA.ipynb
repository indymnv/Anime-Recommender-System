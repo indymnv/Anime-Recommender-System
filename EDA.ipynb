{
 "cells": [
  {
   "cell_type": "markdown",
   "metadata": {},
   "source": [
    "# EDA for Anime Recommender System"
   ]
  },
  {
   "cell_type": "markdown",
   "metadata": {},
   "source": [
    "We are going to start importing libraries"
   ]
  },
  {
   "cell_type": "code",
   "execution_count": 46,
   "metadata": {},
   "outputs": [],
   "source": [
    "import pandas as pd\n",
    "import numpy as np\n",
    "import matplotlib.pyplot as plt"
   ]
  },
  {
   "cell_type": "code",
   "execution_count": 2,
   "metadata": {},
   "outputs": [],
   "source": [
    "df_anime=pd.read_csv('data/anime.csv')\n",
    "df_rating=pd.read_csv('data/rating.csv')"
   ]
  },
  {
   "cell_type": "code",
   "execution_count": 3,
   "metadata": {},
   "outputs": [
    {
     "data": {
      "text/html": [
       "<div>\n",
       "<style scoped>\n",
       "    .dataframe tbody tr th:only-of-type {\n",
       "        vertical-align: middle;\n",
       "    }\n",
       "\n",
       "    .dataframe tbody tr th {\n",
       "        vertical-align: top;\n",
       "    }\n",
       "\n",
       "    .dataframe thead th {\n",
       "        text-align: right;\n",
       "    }\n",
       "</style>\n",
       "<table border=\"1\" class=\"dataframe\">\n",
       "  <thead>\n",
       "    <tr style=\"text-align: right;\">\n",
       "      <th></th>\n",
       "      <th>anime_id</th>\n",
       "      <th>name</th>\n",
       "      <th>genre</th>\n",
       "      <th>type</th>\n",
       "      <th>episodes</th>\n",
       "      <th>rating</th>\n",
       "      <th>members</th>\n",
       "    </tr>\n",
       "  </thead>\n",
       "  <tbody>\n",
       "    <tr>\n",
       "      <th>0</th>\n",
       "      <td>32281</td>\n",
       "      <td>Kimi no Na wa.</td>\n",
       "      <td>Drama, Romance, School, Supernatural</td>\n",
       "      <td>Movie</td>\n",
       "      <td>1</td>\n",
       "      <td>9.37</td>\n",
       "      <td>200630</td>\n",
       "    </tr>\n",
       "    <tr>\n",
       "      <th>1</th>\n",
       "      <td>5114</td>\n",
       "      <td>Fullmetal Alchemist: Brotherhood</td>\n",
       "      <td>Action, Adventure, Drama, Fantasy, Magic, Mili...</td>\n",
       "      <td>TV</td>\n",
       "      <td>64</td>\n",
       "      <td>9.26</td>\n",
       "      <td>793665</td>\n",
       "    </tr>\n",
       "    <tr>\n",
       "      <th>2</th>\n",
       "      <td>28977</td>\n",
       "      <td>Gintama°</td>\n",
       "      <td>Action, Comedy, Historical, Parody, Samurai, S...</td>\n",
       "      <td>TV</td>\n",
       "      <td>51</td>\n",
       "      <td>9.25</td>\n",
       "      <td>114262</td>\n",
       "    </tr>\n",
       "    <tr>\n",
       "      <th>3</th>\n",
       "      <td>9253</td>\n",
       "      <td>Steins;Gate</td>\n",
       "      <td>Sci-Fi, Thriller</td>\n",
       "      <td>TV</td>\n",
       "      <td>24</td>\n",
       "      <td>9.17</td>\n",
       "      <td>673572</td>\n",
       "    </tr>\n",
       "    <tr>\n",
       "      <th>4</th>\n",
       "      <td>9969</td>\n",
       "      <td>Gintama&amp;#039;</td>\n",
       "      <td>Action, Comedy, Historical, Parody, Samurai, S...</td>\n",
       "      <td>TV</td>\n",
       "      <td>51</td>\n",
       "      <td>9.16</td>\n",
       "      <td>151266</td>\n",
       "    </tr>\n",
       "  </tbody>\n",
       "</table>\n",
       "</div>"
      ],
      "text/plain": [
       "   anime_id                              name  \\\n",
       "0     32281                    Kimi no Na wa.   \n",
       "1      5114  Fullmetal Alchemist: Brotherhood   \n",
       "2     28977                          Gintama°   \n",
       "3      9253                       Steins;Gate   \n",
       "4      9969                     Gintama&#039;   \n",
       "\n",
       "                                               genre   type episodes  rating  \\\n",
       "0               Drama, Romance, School, Supernatural  Movie        1    9.37   \n",
       "1  Action, Adventure, Drama, Fantasy, Magic, Mili...     TV       64    9.26   \n",
       "2  Action, Comedy, Historical, Parody, Samurai, S...     TV       51    9.25   \n",
       "3                                   Sci-Fi, Thriller     TV       24    9.17   \n",
       "4  Action, Comedy, Historical, Parody, Samurai, S...     TV       51    9.16   \n",
       "\n",
       "   members  \n",
       "0   200630  \n",
       "1   793665  \n",
       "2   114262  \n",
       "3   673572  \n",
       "4   151266  "
      ]
     },
     "execution_count": 3,
     "metadata": {},
     "output_type": "execute_result"
    }
   ],
   "source": [
    "df_anime.head()"
   ]
  },
  {
   "cell_type": "code",
   "execution_count": 4,
   "metadata": {},
   "outputs": [
    {
     "data": {
      "text/html": [
       "<div>\n",
       "<style scoped>\n",
       "    .dataframe tbody tr th:only-of-type {\n",
       "        vertical-align: middle;\n",
       "    }\n",
       "\n",
       "    .dataframe tbody tr th {\n",
       "        vertical-align: top;\n",
       "    }\n",
       "\n",
       "    .dataframe thead th {\n",
       "        text-align: right;\n",
       "    }\n",
       "</style>\n",
       "<table border=\"1\" class=\"dataframe\">\n",
       "  <thead>\n",
       "    <tr style=\"text-align: right;\">\n",
       "      <th></th>\n",
       "      <th>user_id</th>\n",
       "      <th>anime_id</th>\n",
       "      <th>rating</th>\n",
       "    </tr>\n",
       "  </thead>\n",
       "  <tbody>\n",
       "    <tr>\n",
       "      <th>0</th>\n",
       "      <td>1</td>\n",
       "      <td>20</td>\n",
       "      <td>-1</td>\n",
       "    </tr>\n",
       "    <tr>\n",
       "      <th>1</th>\n",
       "      <td>1</td>\n",
       "      <td>24</td>\n",
       "      <td>-1</td>\n",
       "    </tr>\n",
       "    <tr>\n",
       "      <th>2</th>\n",
       "      <td>1</td>\n",
       "      <td>79</td>\n",
       "      <td>-1</td>\n",
       "    </tr>\n",
       "    <tr>\n",
       "      <th>3</th>\n",
       "      <td>1</td>\n",
       "      <td>226</td>\n",
       "      <td>-1</td>\n",
       "    </tr>\n",
       "    <tr>\n",
       "      <th>4</th>\n",
       "      <td>1</td>\n",
       "      <td>241</td>\n",
       "      <td>-1</td>\n",
       "    </tr>\n",
       "  </tbody>\n",
       "</table>\n",
       "</div>"
      ],
      "text/plain": [
       "   user_id  anime_id  rating\n",
       "0        1        20      -1\n",
       "1        1        24      -1\n",
       "2        1        79      -1\n",
       "3        1       226      -1\n",
       "4        1       241      -1"
      ]
     },
     "execution_count": 4,
     "metadata": {},
     "output_type": "execute_result"
    }
   ],
   "source": [
    "df_rating.head()"
   ]
  },
  {
   "cell_type": "code",
   "execution_count": 5,
   "metadata": {},
   "outputs": [
    {
     "data": {
      "text/html": [
       "<div>\n",
       "<style scoped>\n",
       "    .dataframe tbody tr th:only-of-type {\n",
       "        vertical-align: middle;\n",
       "    }\n",
       "\n",
       "    .dataframe tbody tr th {\n",
       "        vertical-align: top;\n",
       "    }\n",
       "\n",
       "    .dataframe thead th {\n",
       "        text-align: right;\n",
       "    }\n",
       "</style>\n",
       "<table border=\"1\" class=\"dataframe\">\n",
       "  <thead>\n",
       "    <tr style=\"text-align: right;\">\n",
       "      <th></th>\n",
       "      <th>anime_id</th>\n",
       "      <th>rating</th>\n",
       "      <th>members</th>\n",
       "    </tr>\n",
       "  </thead>\n",
       "  <tbody>\n",
       "    <tr>\n",
       "      <th>count</th>\n",
       "      <td>12294.000000</td>\n",
       "      <td>12064.000000</td>\n",
       "      <td>1.229400e+04</td>\n",
       "    </tr>\n",
       "    <tr>\n",
       "      <th>mean</th>\n",
       "      <td>14058.221653</td>\n",
       "      <td>6.473902</td>\n",
       "      <td>1.807134e+04</td>\n",
       "    </tr>\n",
       "    <tr>\n",
       "      <th>std</th>\n",
       "      <td>11455.294701</td>\n",
       "      <td>1.026746</td>\n",
       "      <td>5.482068e+04</td>\n",
       "    </tr>\n",
       "    <tr>\n",
       "      <th>min</th>\n",
       "      <td>1.000000</td>\n",
       "      <td>1.670000</td>\n",
       "      <td>5.000000e+00</td>\n",
       "    </tr>\n",
       "    <tr>\n",
       "      <th>25%</th>\n",
       "      <td>3484.250000</td>\n",
       "      <td>5.880000</td>\n",
       "      <td>2.250000e+02</td>\n",
       "    </tr>\n",
       "    <tr>\n",
       "      <th>50%</th>\n",
       "      <td>10260.500000</td>\n",
       "      <td>6.570000</td>\n",
       "      <td>1.550000e+03</td>\n",
       "    </tr>\n",
       "    <tr>\n",
       "      <th>75%</th>\n",
       "      <td>24794.500000</td>\n",
       "      <td>7.180000</td>\n",
       "      <td>9.437000e+03</td>\n",
       "    </tr>\n",
       "    <tr>\n",
       "      <th>max</th>\n",
       "      <td>34527.000000</td>\n",
       "      <td>10.000000</td>\n",
       "      <td>1.013917e+06</td>\n",
       "    </tr>\n",
       "  </tbody>\n",
       "</table>\n",
       "</div>"
      ],
      "text/plain": [
       "           anime_id        rating       members\n",
       "count  12294.000000  12064.000000  1.229400e+04\n",
       "mean   14058.221653      6.473902  1.807134e+04\n",
       "std    11455.294701      1.026746  5.482068e+04\n",
       "min        1.000000      1.670000  5.000000e+00\n",
       "25%     3484.250000      5.880000  2.250000e+02\n",
       "50%    10260.500000      6.570000  1.550000e+03\n",
       "75%    24794.500000      7.180000  9.437000e+03\n",
       "max    34527.000000     10.000000  1.013917e+06"
      ]
     },
     "execution_count": 5,
     "metadata": {},
     "output_type": "execute_result"
    }
   ],
   "source": [
    "df_anime.describe()"
   ]
  },
  {
   "cell_type": "code",
   "execution_count": 6,
   "metadata": {},
   "outputs": [
    {
     "name": "stdout",
     "output_type": "stream",
     "text": [
      "<class 'pandas.core.frame.DataFrame'>\n",
      "RangeIndex: 12294 entries, 0 to 12293\n",
      "Data columns (total 7 columns):\n",
      " #   Column    Non-Null Count  Dtype  \n",
      "---  ------    --------------  -----  \n",
      " 0   anime_id  12294 non-null  int64  \n",
      " 1   name      12294 non-null  object \n",
      " 2   genre     12232 non-null  object \n",
      " 3   type      12269 non-null  object \n",
      " 4   episodes  12294 non-null  object \n",
      " 5   rating    12064 non-null  float64\n",
      " 6   members   12294 non-null  int64  \n",
      "dtypes: float64(1), int64(2), object(4)\n",
      "memory usage: 672.5+ KB\n"
     ]
    }
   ],
   "source": [
    "df_anime.info()"
   ]
  },
  {
   "cell_type": "code",
   "execution_count": 12,
   "metadata": {},
   "outputs": [
    {
     "data": {
      "text/plain": [
       "<matplotlib.axes._subplots.AxesSubplot at 0x7f325d9c15c0>"
      ]
     },
     "execution_count": 12,
     "metadata": {},
     "output_type": "execute_result"
    },
    {
     "data": {
      "image/png": "[encoded data removed]",
      "text/plain": [
       "<Figure size 432x288 with 1 Axes>"
      ]
     },
     "metadata": {
      "needs_background": "light"
     },
     "output_type": "display_data"
    }
   ],
   "source": [
    "#df_anime.rating.plot(type='hist')\n",
    "df_anime.rating.hist(bins=50)"
   ]
  },
  {
   "cell_type": "code",
   "execution_count": 13,
   "metadata": {},
   "outputs": [
    {
     "data": {
      "text/plain": [
       "<matplotlib.axes._subplots.AxesSubplot at 0x7f325d8a4518>"
      ]
     },
     "execution_count": 13,
     "metadata": {},
     "output_type": "execute_result"
    },
    {
     "data": {
      "image/png": "[encoded data removed]",
      "text/plain": [
       "<Figure size 432x288 with 1 Axes>"
      ]
     },
     "metadata": {
      "needs_background": "light"
     },
     "output_type": "display_data"
    }
   ],
   "source": [
    "df_anime.members.hist(bins=50)"
   ]
  },
  {
   "cell_type": "code",
   "execution_count": 26,
   "metadata": {},
   "outputs": [
    {
     "data": {
      "text/plain": [
       "<matplotlib.axes._subplots.AxesSubplot at 0x7f325cdc1978>"
      ]
     },
     "execution_count": 26,
     "metadata": {},
     "output_type": "execute_result"
    },
    {
     "data": {
      "image/png": "[encoded data removed]",
      "text/plain": [
       "<Figure size 432x288 with 1 Axes>"
      ]
     },
     "metadata": {
      "needs_background": "light"
     },
     "output_type": "display_data"
    }
   ],
   "source": [
    "#df_anime.episodes.hist(bins=10)\n",
    "#df_anime.episodes.plot.bar(x='episodes')\n",
    "df_anime.episodes.value_counts().head(15).plot.bar()"
   ]
  },
  {
   "cell_type": "code",
   "execution_count": 31,
   "metadata": {},
   "outputs": [
    {
     "data": {
      "text/plain": [
       "<matplotlib.axes._subplots.AxesSubplot at 0x7f325cad9940>"
      ]
     },
     "execution_count": 31,
     "metadata": {},
     "output_type": "execute_result"
    },
    {
     "data": {
      "image/png": "[encoded data removed]",
      "text/plain": [
       "<Figure size 432x288 with 1 Axes>"
      ]
     },
     "metadata": {
      "needs_background": "light"
     },
     "output_type": "display_data"
    }
   ],
   "source": [
    "df_anime.type.value_counts().plot.bar()"
   ]
  },
  {
   "cell_type": "code",
   "execution_count": 43,
   "metadata": {},
   "outputs": [
    {
     "data": {
      "text/plain": [
       "<matplotlib.axes._subplots.AxesSubplot at 0x7f325c9e6828>"
      ]
     },
     "execution_count": 43,
     "metadata": {},
     "output_type": "execute_result"
    },
    {
     "data": {
      "image/png": "[encoded data removed]",
      "text/plain": [
       "<Figure size 432x288 with 1 Axes>"
      ]
     },
     "metadata": {
      "needs_background": "light"
     },
     "output_type": "display_data"
    }
   ],
   "source": [
    "#Top 10 Animes Rating counts\n",
    "df_anime.sort_values(by='rating', ascending=False )[['name','rating']].head(10).plot.bar(x='name')"
   ]
  },
  {
   "cell_type": "code",
   "execution_count": 44,
   "metadata": {},
   "outputs": [
    {
     "data": {
      "text/plain": [
       "<matplotlib.axes._subplots.AxesSubplot at 0x7f325c971860>"
      ]
     },
     "execution_count": 44,
     "metadata": {},
     "output_type": "execute_result"
    },
    {
     "data": {
      "image/png": "[encoded data removed]",
      "text/plain": [
       "<Figure size 432x288 with 1 Axes>"
      ]
     },
     "metadata": {
      "needs_background": "light"
     },
     "output_type": "display_data"
    }
   ],
   "source": [
    "#Top 10 based on number of members\n",
    "df_anime.sort_values(by='members', ascending=False )[['name','members']].head(10).plot.bar(x='name')"
   ]
  },
  {
   "cell_type": "code",
   "execution_count": 52,
   "metadata": {},
   "outputs": [
    {
     "data": {
      "text/plain": [
       "<matplotlib.collections.PathCollection at 0x7f325c50e128>"
      ]
     },
     "execution_count": 52,
     "metadata": {},
     "output_type": "execute_result"
    },
    {
     "data": {
      "image/png": "[encoded data removed]",
      "text/plain": [
       "<Figure size 432x288 with 1 Axes>"
      ]
     },
     "metadata": {
      "needs_background": "light"
     },
     "output_type": "display_data"
    }
   ],
   "source": [
    "#Relation between number of members and rating\n",
    "plt.scatter(x=df_anime.members, y=df_anime.rating)"
   ]
  },
  {
   "cell_type": "code",
   "execution_count": 49,
   "metadata": {},
   "outputs": [
    {
     "data": {
      "text/plain": [
       "<matplotlib.collections.PathCollection at 0x7f325c8842e8>"
      ]
     },
     "execution_count": 49,
     "metadata": {},
     "output_type": "execute_result"
    },
    {
     "data": {
      "image/png": "[encoded data removed]",
      "text/plain": [
       "<Figure size 432x288 with 1 Axes>"
      ]
     },
     "metadata": {
      "needs_background": "light"
     },
     "output_type": "display_data"
    }
   ],
   "source": [
    "#Relation between number of members and rating\n",
    "#Se podría mejorar esta imagen\n",
    "plt.scatter(x=df_anime.episodes, y=df_anime.rating)"
   ]
  },
  {
   "cell_type": "code",
   "execution_count": 63,
   "metadata": {},
   "outputs": [
    {
     "data": {
      "text/plain": [
       "genre      62\n",
       "type       25\n",
       "rating    230\n",
       "dtype: int64"
      ]
     },
     "execution_count": 63,
     "metadata": {},
     "output_type": "execute_result"
    }
   ],
   "source": [
    "null_features = df_anime.columns[df_anime.isna().any()]\n",
    "df_anime[null_features].isna().sum()"
   ]
  },
  {
   "cell_type": "code",
   "execution_count": 56,
   "metadata": {},
   "outputs": [
    {
     "ename": "AttributeError",
     "evalue": "'float' object has no attribute 'split'",
     "output_type": "error",
     "traceback": [
      "\u001b[0;31m---------------------------------------------------------------------------\u001b[0m",
      "\u001b[0;31mAttributeError\u001b[0m                            Traceback (most recent call last)",
      "\u001b[0;32m<ipython-input-56-8186523ee993>\u001b[0m in \u001b[0;36m<module>\u001b[0;34m\u001b[0m\n\u001b[1;32m      6\u001b[0m \u001b[0;34m\u001b[0m\u001b[0m\n\u001b[1;32m      7\u001b[0m \u001b[0;32mfor\u001b[0m \u001b[0mgenres\u001b[0m \u001b[0;32min\u001b[0m \u001b[0mdf_anime\u001b[0m\u001b[0;34m[\u001b[0m\u001b[0;34m'genre'\u001b[0m\u001b[0;34m]\u001b[0m\u001b[0;34m:\u001b[0m\u001b[0;34m\u001b[0m\u001b[0;34m\u001b[0m\u001b[0m\n\u001b[0;32m----> 8\u001b[0;31m     \u001b[0;32mfor\u001b[0m \u001b[0mgenre\u001b[0m \u001b[0;32min\u001b[0m \u001b[0mgenres\u001b[0m\u001b[0;34m.\u001b[0m\u001b[0msplit\u001b[0m\u001b[0;34m(\u001b[0m\u001b[0;34m','\u001b[0m\u001b[0;34m)\u001b[0m\u001b[0;34m:\u001b[0m\u001b[0;34m\u001b[0m\u001b[0;34m\u001b[0m\u001b[0m\n\u001b[0m\u001b[1;32m      9\u001b[0m         \u001b[0mall_genres\u001b[0m\u001b[0;34m[\u001b[0m\u001b[0mgenre\u001b[0m\u001b[0;34m.\u001b[0m\u001b[0mstrip\u001b[0m\u001b[0;34m(\u001b[0m\u001b[0;34m)\u001b[0m\u001b[0;34m]\u001b[0m \u001b[0;34m+=\u001b[0m \u001b[0;36m1\u001b[0m\u001b[0;34m\u001b[0m\u001b[0;34m\u001b[0m\u001b[0m\n",
      "\u001b[0;31mAttributeError\u001b[0m: 'float' object has no attribute 'split'"
     ]
    }
   ],
   "source": [
    "from collections import defaultdict\n",
    "import re\n",
    "import os\n",
    "\n",
    "all_genres = defaultdict(int)\n",
    "\n",
    "for genres in df_anime['genre']:\n",
    "    for genre in genres.split(','):\n",
    "        all_genres[genre.strip()] += 1"
   ]
  },
  {
   "cell_type": "code",
   "execution_count": 68,
   "metadata": {},
   "outputs": [
    {
     "data": {
      "text/plain": [
       "['Inazma Delivery',\n",
       " 'Nananin no Ayakashi: Chimi Chimi Mouryou!! Gendai Monogatari',\n",
       " 'Gintama (2017)',\n",
       " 'One Punch Man 2',\n",
       " 'Steins;Gate 0',\n",
       " 'Shingeki no Kyojin Season 2',\n",
       " 'Code Geass: Fukkatsu no Lelouch',\n",
       " 'Boku no Hero Academia 2nd Season',\n",
       " 'Kono Subarashii Sekai ni Shukufuku wo! 2',\n",
       " 'Ao no Exorcist: Kyoto Fujouou-hen',\n",
       " 'Super Lovers 2',\n",
       " 'Saenai Heroine no Sodatekata ♭',\n",
       " 'Violet Evergarden',\n",
       " 'K: Seven Stories',\n",
       " 'Sword Art Online Movie: Ordinal Scale',\n",
       " 'Dungeon ni Deai wo Motomeru no wa Machigatteiru Darou ka Gaiden: Sword Oratoria',\n",
       " 'Masamune-kun no Revenge',\n",
       " 'Kantai Collection: KanColle Zoku-hen',\n",
       " 'Fate/Extra Last Encore',\n",
       " 'Yowamushi Pedal: New Generation',\n",
       " 'Kekkai Sensen &amp; Beyond',\n",
       " 'Mekakucity Reload',\n",
       " 'Fate/stay night Movie: Heaven&#039;s Feel',\n",
       " 'Fuuka',\n",
       " 'Free! (Shinsaku)',\n",
       " 'No Game No Life Movie',\n",
       " 'Little Witch Academia (TV)',\n",
       " 'Kuzu no Honkai',\n",
       " 'ChäoS;Child',\n",
       " 'Eromanga-sensei',\n",
       " 'Berserk (2017)',\n",
       " 'Hand Shakers',\n",
       " 'Zero kara Hajimeru Mahou no Sho',\n",
       " 'FLCL (TV)',\n",
       " 'Shingeki no Bahamut: Manaria Friends',\n",
       " 'Full Metal Panic! IV',\n",
       " 'Granblue Fantasy The Animation',\n",
       " 'Touken Ranbu',\n",
       " '6HP (Six Hearts Princess)',\n",
       " 'ACCA: 13-ku Kansatsu-ka',\n",
       " 'After School',\n",
       " 'Akiba&#039;s Trip The Animation',\n",
       " 'Alice in Deadly School',\n",
       " 'Alice to Zouroku',\n",
       " 'Amanchu! Special',\n",
       " 'Ao no Exorcist OVA',\n",
       " 'Ao Oni The Animation (Movie)',\n",
       " 'Aoki Uru',\n",
       " 'Armed Blue: Gunvolt',\n",
       " 'Atom: The Beginning',\n",
       " 'ēlDLIVE',\n",
       " 'BanG Dream!',\n",
       " 'Biohazard: Vendetta',\n",
       " 'Blame! Movie',\n",
       " 'Bungou Stray Dogs OVA',\n",
       " 'Busou Shoujo Machiavellianism',\n",
       " 'Cardcaptor Sakura: Clear Card-hen',\n",
       " 'Cencoroll 2',\n",
       " 'Centaur no Nayami',\n",
       " 'Chain Chronicle: Haecceitas no Hikari',\n",
       " 'Chain Chronicle: Haecceitas no Hikari Part 2',\n",
       " 'Chain Chronicle: Haecceitas no Hikari Part 3',\n",
       " 'Charanpo Shima no Monogatari',\n",
       " 'Chiruran: Nibun no Ichi',\n",
       " 'Chou Shounen Tanteidan Neo',\n",
       " 'Choujikuu Robo Meguru',\n",
       " 'Cinderella Girls Gekijou',\n",
       " 'Clockwork Planet',\n",
       " 'Closers: Side Blacklambs',\n",
       " 'Code:Realize: Sousei no Himegimi',\n",
       " 'Crayon Shin-chan Movie 25: Shin-chan Shuurai! Uchuujin Shiriri',\n",
       " 'Dam Keeper no Nakama-tachi',\n",
       " 'Days OVA',\n",
       " 'Death March kara Hajimaru Isekai Kyousoukyoku',\n",
       " 'Demi-chan wa Kataritai',\n",
       " 'Detective Conan Movie 21: Deep Red Love Letter',\n",
       " 'Dies Irae',\n",
       " 'Digimon Adventure tri. 4: Soushitsu',\n",
       " 'Doraemon Movie 37: Nobita no Nankyoku Kachikochi Daibouken',\n",
       " 'Dragon Nest: Throne of Elves',\n",
       " 'Ensemble Stars!',\n",
       " 'Escha Chron',\n",
       " 'Evangelion: 3.0+1.0',\n",
       " 'Fairy Tail Movie 2',\n",
       " 'Fate/Grand Order: First Order',\n",
       " 'Fate/kaleid liner Prisma☆Illya Movie',\n",
       " 'Fate/stay night Movie: Heaven&#039;s Feel 2',\n",
       " 'Fate/stay night Movie: Heaven&#039;s Feel 3',\n",
       " 'Finis',\n",
       " 'Flying Babies',\n",
       " 'Frame Arms Girl',\n",
       " 'Fukumenkei Noise',\n",
       " 'Gabriel DropOut',\n",
       " 'Gakuen Handsome Special',\n",
       " 'Gamers!',\n",
       " 'Gan Gan Ganko-chan',\n",
       " 'Ganko-chan',\n",
       " 'Gekidol',\n",
       " 'Genba no Joukitsune',\n",
       " 'Gin no Guardian',\n",
       " 'Ginga Eiyuu Densetsu (2017)',\n",
       " 'Ginga Jinpuu Jinraiger',\n",
       " 'Godzilla',\n",
       " 'Gou-chan. Moko to Chinjuu no Mori no Nakama-tachi',\n",
       " 'Grancrest Senki',\n",
       " 'Gundam Build Fighters OVA',\n",
       " 'Gyakusatsu Kikan',\n",
       " 'Haikara-san ga Tooru Movie',\n",
       " 'Hajimete no Gal',\n",
       " 'Hatsukoi Monster OVA',\n",
       " 'High School Fleet OVA',\n",
       " 'High Score Girl',\n",
       " 'Hinako Note',\n",
       " 'Hirune Hime: Shiranai Watashi no Monogatari',\n",
       " 'ID-0',\n",
       " 'Idol Jihen',\n",
       " 'IDOLiSH7',\n",
       " 'Inazuma Eleven: Ares no Tenbin',\n",
       " 'Infini-T Force',\n",
       " 'Isekai Shokudou',\n",
       " 'Island',\n",
       " 'Kabukibu!',\n",
       " 'Kaitou Tenshi Twin Angel (TV)',\n",
       " 'Kamisama Minarai: Himitsu no Cocotama Movie',\n",
       " 'Kemono Friends',\n",
       " 'Kemushi no Boro',\n",
       " 'Kenka Banchou Otome: Girl Beats Boys',\n",
       " 'King of Prism: Pride the Hero',\n",
       " 'Kishibe Rohan wa Ugokanai',\n",
       " 'Kizumonogatari III: Reiketsu-hen',\n",
       " 'Knight&#039;s &amp; Magic',\n",
       " 'Kobayashi-san Chi no Maid Dragon',\n",
       " 'Koutetsujou no Kabaneri Soushuuhen 1: Tsudou Hikari',\n",
       " 'Koutetsujou no Kabaneri Soushuuhen 2: Moeru Inochi',\n",
       " 'Kuroko no Basket: Last Game',\n",
       " 'Kuroshitsuji Movie: Book of the Atlantic',\n",
       " 'Kyoukai no Rinne (TV) 3rd Season',\n",
       " 'Landreaall',\n",
       " 'Locker Room',\n",
       " 'Lupin the IIIrd: Chikemuri no Ishikawa Goemon',\n",
       " 'Mahou Shoujo Lyrical Nanoha Reflection',\n",
       " 'Mahouka Koukou no Rettousei Movie: Hoshi wo Yobu Shoujo',\n",
       " 'Marginal#4: Kiss kara Tsukuru Big Bang',\n",
       " 'Megaton-kyuu Musashi',\n",
       " 'Minami Kamakura Koukou Joshi Jitensha-bu',\n",
       " 'Minna Atsumare! Falcom Gakuen 3rd Season',\n",
       " 'Mint',\n",
       " 'Mirai Arise',\n",
       " 'Mobile Suit Gundam Thunderbolt 2nd Season',\n",
       " 'Mori no Yousei: Kinoko no Musume',\n",
       " 'Netsuzou TRap',\n",
       " 'New Game!: Watashi, Shain Ryokou tte Hajimete nano de...',\n",
       " 'Nil Admirari no Tenbin: Teito Genwaku Kitan',\n",
       " 'Ninja Bear',\n",
       " 'Nora to Oujo to Noraneko Heart',\n",
       " 'Nyanko Days',\n",
       " 'One Room',\n",
       " 'Onihei',\n",
       " 'Oshiete! Galko-chan (OVA)',\n",
       " 'Oushitsu Kyoushi Haine',\n",
       " 'Overlord Movie',\n",
       " 'Peace Maker Kurogane (Shinsaku)',\n",
       " 'Piace: Watashi no Italian',\n",
       " 'Pop in Q',\n",
       " 'Project758',\n",
       " 'Red Ash The Animation: Magicicada',\n",
       " 'Reikenzan: Hoshikuzu-tachi no Utage 2nd Season',\n",
       " 'Renai Boukun',\n",
       " 'Rescue Academia',\n",
       " 'Rokudenashi Majutsu Koushi to Akashic Records',\n",
       " 'Room Mate: One Room Side M',\n",
       " 'Saiyuuki Reload Blast',\n",
       " 'Sakura Quest',\n",
       " 'Sakurada Reset',\n",
       " 'Saredo Tsumibito wa Ryuu to Odoru',\n",
       " 'Schoolgirl Strikers: Animation Channel',\n",
       " 'Seikaisuru Kado',\n",
       " 'Seiren',\n",
       " 'Senki Zesshou Symphogear 4th Season',\n",
       " 'Senki Zesshou Symphogear 5th Season',\n",
       " 'Sentai Hero Sukiyaki Force',\n",
       " 'Shimajirou to Niji no Oasis',\n",
       " 'Shingeki no Bahamut: Virgin Soul',\n",
       " 'Shishou Series',\n",
       " 'Shouwa Genroku Rakugo Shinjuu: Sukeroku Futatabi-hen',\n",
       " 'Shuumatsu Nani Shitemasu ka? Isogashii desu ka? Sukutte Moratte Ii desu ka?',\n",
       " 'Sin: Nanatsu no Taizai',\n",
       " 'Starmyu 2nd Season',\n",
       " 'Suki ni Naru Sono Shunkan wo.: Kokuhaku Jikkou Iinkai',\n",
       " 'Super Lovers OVA',\n",
       " 'Sword Gai (TV)',\n",
       " 'Tales of Zestiria the X (2017)',\n",
       " 'Tamagotchi Movie: Tanpen Himitsu no Otodoke Daisakusen!',\n",
       " 'Tantei Opera Milky Holmes: Fun Fun Party Night♪ - Ken to Janet no Okurimono',\n",
       " 'Tenshi no 3P!',\n",
       " 'THE REFLECTION',\n",
       " 'The Snack World (TV)',\n",
       " 'The Snack World: Hitogirai no Renny',\n",
       " 'Tokyo Futago Athletic',\n",
       " 'Trick or Alice',\n",
       " 'Trinity Seven Movie: Eternity Library to Alchemic Girl',\n",
       " 'Tsubu★Doll',\n",
       " 'Tsugumomo',\n",
       " 'Tsukipro The Animation',\n",
       " 'Uchiage Hanabi, Shita kara Miru ka? Yoko kara Miru ka?',\n",
       " 'Uchouten Kazoku 2',\n",
       " 'Uchuu Senkan Yamato 2202: Ai no Senshi-tachi',\n",
       " 'UQ Holder!',\n",
       " 'Urara Meirochou',\n",
       " 'Utakata Overdrive',\n",
       " 'Wake Up, Girls! Shin Shou',\n",
       " 'Whistle! (ONA)',\n",
       " 'Yami Shibai 4th Season',\n",
       " 'Youjo Senki',\n",
       " 'Youkai Watch Movie 3: Soratobu Kujira to Double Sekai no Daibouken da Nyan!',\n",
       " 'Youkai Watch Movie 4',\n",
       " 'Yuuki Yuuna wa Yuusha de Aru: Washio Sumi no Shou',\n",
       " 'Yuuki Yuuna wa Yuusha de Aru: Yuusha no Shou',\n",
       " 'Yuyushiki Special',\n",
       " 'Zunda Horizon',\n",
       " 'Citrus',\n",
       " 'Hataraku Otona no Renai Jijou The Animation',\n",
       " 'Hitorijime My Hero',\n",
       " 'Idol Kyousei Sousa',\n",
       " 'Kyonyuu Reijou MC Gakuen',\n",
       " 'Nuki Doki! Tenshi to Akuma no Sakusei Battle - Revolution',\n",
       " 'Sagurare Otome The Animation',\n",
       " 'Saimin Class',\n",
       " 'Shikkoku no Shaga The Animation',\n",
       " 'Taimanin Asagi 3']"
      ]
     },
     "execution_count": 68,
     "metadata": {},
     "output_type": "execute_result"
    }
   ],
   "source": [
    "df_anime[df_anime.rating.isna()]['name'].tolist()"
   ]
  },
  {
   "cell_type": "code",
   "execution_count": null,
   "metadata": {},
   "outputs": [],
   "source": []
  },
  {
   "cell_type": "code",
   "execution_count": null,
   "metadata": {},
   "outputs": [],
   "source": []
  }
 ],
 "metadata": {
  "kernelspec": {
   "display_name": "conda_chainer_p36",
   "language": "python",
   "name": "conda_chainer_p36"
  },
  "language_info": {
   "codemirror_mode": {
    "name": "ipython",
    "version": 3
   },
   "file_extension": ".py",
   "mimetype": "text/x-python",
   "name": "python",
   "nbconvert_exporter": "python",
   "pygments_lexer": "ipython3",
   "version": "3.6.10"
  }
 },
 "nbformat": 4,
 "nbformat_minor": 4
}
